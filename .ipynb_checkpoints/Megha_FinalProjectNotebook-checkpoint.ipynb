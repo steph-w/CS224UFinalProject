{
 "cells": [
  {
   "cell_type": "markdown",
   "metadata": {},
   "source": [
    "CS224U Final Project: Analysis of Gender Roles and Bias in Literary Portrayal of Characters\n",
    "==="
   ]
  },
  {
   "cell_type": "code",
   "execution_count": 109,
   "metadata": {
    "collapsed": true
   },
   "outputs": [],
   "source": [
    "__authors__ = \"Stephanie Wang, Megha Srivastava, Sarai Gould\"\n",
    "__version__=\"CS224u, Stanford, Spring 2016 term\""
   ]
  },
  {
   "cell_type": "code",
   "execution_count": 110,
   "metadata": {
    "collapsed": false
   },
   "outputs": [],
   "source": [
    "%matplotlib inline\n",
    "import numpy as np\n",
    "import matplotlib.pyplot as plt\n",
    "import pylab\n",
    "from collections import Counter, OrderedDict\n",
    "from sklearn.cross_validation import train_test_split\n",
    "from sklearn.feature_extraction import DictVectorizer\n",
    "from sklearn.linear_model import LogisticRegression\n",
    "from sklearn.metrics import classification_report, accuracy_score, f1_score\n",
    "from sklearn.grid_search import GridSearchCV\n",
    "from sklearn.feature_selection import chi2, SelectPercentile\n",
    "from pandas import DataFrame\n",
    "import scipy.stats\n",
    "import utils"
   ]
  },
  {
   "cell_type": "markdown",
   "metadata": {},
   "source": [
    "### Overview\n",
    "##### Features\n",
    "The input to these functions is a list of features to train on. Ideally this is a list of dictionaries which can then be dictvectorized into a feature matrix. \n",
    "Current features:\n",
    " - Unigrams\n",
    " - Dependencies\n",
    " - Genres\n",
    " - Date of Publication\n",
    " - Sentence Length\n"
   ]
  },
  {
   "cell_type": "code",
   "execution_count": 111,
   "metadata": {
    "collapsed": false
   },
   "outputs": [],
   "source": [
    "import re\n",
    "import codecs \n",
    "\n",
    "#labels are: Male Char, Female Auth: MCFA; Female Char, Female Auth: FCFA; Male Char, Male Auth: MCMA;\n",
    "#Female Char, Male Auth: FCMA; Male Char, Female Char, Female Auth: MCFCFA; Male Char, Female Char Male Auth: MCFCMA\n",
    "def train_file_reader(src_filename):\n",
    "    num_gender = {\"FA\": 0, \"MA\": 0}\n",
    "    curr_author_gender = \"FA\"\n",
    "    curr_genre = \"Default_Genre\"\n",
    "    curr_pub = \"0000\"\n",
    "    all_lines_file = codecs.open(src_filename, 'r', 'utf8')\n",
    "    iterable_file = iter(all_lines_file)\n",
    "    for line in iterable_file:\n",
    "        if \"#####\" in line:   \n",
    "            #line represents a new book in the dataset, indicating a change in author gender, pub year, and genre\n",
    "            if \"GENDER:MALE\" in line:\n",
    "                curr_author_gender = \"MA\"\n",
    "                num_gender[\"MA\"] = num_gender[\"MA\"] + 1\n",
    "            else:\n",
    "                curr_author_gender = \"FA\"\n",
    "                num_gender[\"FA\"] = num_gender[\"FA\"] + 1\n",
    "            pub_year_pattern = re.compile('#PUB:(\\d+)#') #extracts publication year\n",
    "            pub_matches = pub_year_pattern.findall(line)\n",
    "            if pub_matches:\n",
    "                curr_pub = pub_matches[0]\n",
    "            genre_pattern = re.compile('#GENRE:(.+)#PUB') #extracts genre\n",
    "            genre_matches = genre_pattern.findall(line)\n",
    "            if genre_matches:\n",
    "                curr_genre = genre_matches[0]\n",
    "        if line.startswith(\"SENTENCE: \"): #sentence to label\n",
    "            label = \"\"\n",
    "            if \"00MALE00\" in line:\n",
    "                label += \"MC\"\n",
    "            if \"00FEMALE00\" in line:\n",
    "                label += \"FC\"\n",
    "            if label == \"\":\n",
    "                continue\n",
    "            label += curr_author_gender\n",
    "            unigrams_list = []\n",
    "            for word in line.split(\" \"):\n",
    "                if (not (\"00MALE00\" in word) and not (\"00FEMALE00\" in word) and not (word.startswith(\"SENTENCE:\"))):\n",
    "                    unigrams_list.append(word) #gets all unigrams except those obviously indicating gender\n",
    "            unigrams_length = len(unigrams_list) #gets the length of sentence\n",
    "            dependency_list = []\n",
    "            line = next(iterable_file)\n",
    "            if line.startswith(\"DEPENDENCY: \"): #dependencies corresponding to above sentence\n",
    "                for dep in line.split(\" \"):\n",
    "                    if (dep != \"DEPENDENCY:\"):\n",
    "                        dependency_list.append(dep)\n",
    "            if not dependency_list:\n",
    "                continue\n",
    "            yield(unigrams_list, unigrams_length, dependency_list, curr_pub, curr_genre, label) #returns a generator\n",
    "        \n",
    "def train_reader():\n",
    "    #hard-code file HERE\n",
    "    return train_file_reader(\"all_files_lines_deps.txt.v3\")    \n",
    "\n",
    "def features_phi(unigrams, length, dependencies, pub, genre):\n",
    "    features_list = []\n",
    "    features_list.extend(unigrams)\n",
    "    features_list.extend(dependencies)\n",
    "    features_list.append(length)\n",
    "    #publication date feature is currently divided into buckets by century. Change this code to \n",
    "    #use buckets of decades, centuries, etc. \n",
    "    if pub.startswith(\"18\"):\n",
    "        features_list.append(\"1800\")\n",
    "    elif pub.startswith(\"19\"):\n",
    "        features_list.append(\"1900\")\n",
    "    elif pub.startswith(\"17\"):\n",
    "        features_list.append(\"1700\")\n",
    "    elif pub.startswith(\"16\"):\n",
    "        features_list.append(\"1600\")\n",
    "    else:\n",
    "        features_list.append(\"0000\")\n",
    "    #appends genre feature\n",
    "    features_list.append(genre)\n",
    "    #turns feature list into a dictionary\n",
    "    return Counter(features_list)"
   ]
  },
  {
   "cell_type": "markdown",
   "metadata": {},
   "source": [
    "## Create Comparison Charts of Genders and Genres"
   ]
  },
  {
   "cell_type": "code",
   "execution_count": 112,
   "metadata": {
    "collapsed": true
   },
   "outputs": [],
   "source": [
    "def data_reader(src_filename):\n",
    "    curr_author_gender = \"FA\"\n",
    "    curr_genre = \"Default_Genre\"\n",
    "    curr_pub = \"0000\"\n",
    "    all_lines_file = codecs.open(src_filename, 'r', 'utf8')\n",
    "    iterable_file = iter(all_lines_file)\n",
    "    for line in iterable_file:\n",
    "        if \"#####\" in line:   \n",
    "            #line represents a new book in the dataset, indicating a change in author gender, pub year, and genre\n",
    "            if \"GENDER:MALE\" in line:\n",
    "                curr_author_gender = \"MA\"\n",
    "            else:\n",
    "                curr_author_gender = \"FA\"\n",
    "            pub_year_pattern = re.compile('#PUB:(\\d+)#') #extracts publication year\n",
    "            pub_matches = pub_year_pattern.findall(line)\n",
    "            if pub_matches:\n",
    "                curr_pub = pub_matches[0]\n",
    "            genre_pattern = re.compile('#GENRE:(.+)#PUB') #extracts genre\n",
    "            genre_matches = genre_pattern.findall(line)\n",
    "            if genre_matches:\n",
    "                curr_genre = genre_matches[0]\n",
    "            yield(curr_author_gender, curr_pub, curr_genre)"
   ]
  },
  {
   "cell_type": "code",
   "execution_count": 6,
   "metadata": {
    "collapsed": false
   },
   "outputs": [],
   "source": [
    "def  build_gender_chart(num_gender, gendre_genre, gender_pub):\n",
    "    \n",
    "    for author_gen, pub, genre in data_reader(\"all_files_lines_deps.txt.v3\"):\n",
    "        num_gender[author_gen] = num_gender[author_gen] + 1\n",
    "        gender_pub[author_gen].append(int(pub))\n",
    "        gender_genre[author_gen].append(genre)       \n"
   ]
  },
  {
   "cell_type": "code",
   "execution_count": 7,
   "metadata": {
    "collapsed": false
   },
   "outputs": [],
   "source": [
    "num_gender = {\"MA\": 0, \"FA\": 0}\n",
    "gender_genre = {\"MA\": [], \"FA\": []}\n",
    "gender_pub = {\"MA\": [], \"FA\": []}\n",
    "\n",
    "build_gender_chart(num_gender, gender_genre, gender_pub)"
   ]
  },
  {
   "cell_type": "markdown",
   "metadata": {},
   "source": [
    "### Plot Count of Female and Male Authors"
   ]
  },
  {
   "cell_type": "code",
   "execution_count": 8,
   "metadata": {
    "collapsed": false
   },
   "outputs": [
    {
     "data": {
      "image/png": "[encoded data removed]",
      "text/plain": [
       "<matplotlib.figure.Figure at 0x117607a90>"
      ]
     },
     "metadata": {},
     "output_type": "display_data"
    }
   ],
   "source": [
    "male_genre = Counter(gender_genre[\"MA\"])\n",
    "female_genre = Counter(gender_genre[\"FA\"])\n",
    "male_pub = Counter(gender_pub[\"MA\"])\n",
    "female_pub = Counter(gender_pub[\"FA\"])\n",
    "\n",
    "def plot_author_count (num_gender):\n",
    "    #plot number of authors in dataset, separated by gender\n",
    "    fig1, ax1 = plt.subplots(figsize=(9, 7))\n",
    "    fig1.suptitle('Count of Female and Male Authors', fontsize=20)\n",
    "    ax1.bar(range(len(num_gender)), num_gender.values(), align='center', width=0.5)\n",
    "    plt.xticks(range(len(num_gender)), num_gender.keys())\n",
    "    plt.xlabel('Author Gender', fontsize=16)\n",
    "    plt.ylabel('Frequency', fontsize=16)\n",
    "    plt.show()\n",
    "\n",
    "plot_author_count(num_gender)"
   ]
  },
  {
   "cell_type": "markdown",
   "metadata": {},
   "source": [
    "### Plot Count of Publication Date for Male and Female Authors"
   ]
  },
  {
   "cell_type": "code",
   "execution_count": 10,
   "metadata": {
    "collapsed": false
   },
   "outputs": [
    {
     "data": {
      "image/png": "[encoded data removed]",
      "text/plain": [
       "<matplotlib.figure.Figure at 0x11a024950>"
      ]
     },
     "metadata": {},
     "output_type": "display_data"
    }
   ],
   "source": [
    "def plot_pub_date_count(male_pub, female_pub):\n",
    "    #Sort the dates and plot the number of publications that year, separated by male and female\n",
    "    male_pub_dict = OrderedDict(sorted(male_pub.items(), key=lambda t:t[0]))\n",
    "    female_pub_dict = OrderedDict(sorted(female_pub.items(), key=lambda t:t[0]))\n",
    "    fig2, ax2 = plt.subplots(figsize=(9, 7))\n",
    "    fig2.suptitle('Count of Publication Date for Male and Female Authors', fontsize=20)\n",
    "    ax2.plot(male_pub_dict.keys(), male_pub_dict.values(), \n",
    "             color='blue', linestyle='-', label='Male', linewidth=1)\n",
    "    ax2.plot(female_pub_dict.keys(), female_pub_dict.values(), \n",
    "             color = 'red', linestyle='--', label=\"Female\", linewidth=1)\n",
    "    plt.xlabel('Date of Publication', fontsize=16)\n",
    "    plt.ylabel('Frequency', fontsize=16)\n",
    "    plt.legend()\n",
    "    pylab.xlim(1750, 2010)\n",
    "    plt.show()\n",
    "\n",
    "plot_pub_date_count(male_pub, female_pub)"
   ]
  },
  {
   "cell_type": "markdown",
   "metadata": {},
   "source": [
    "### Plot Genre Frequencies"
   ]
  },
  {
   "cell_type": "code",
   "execution_count": 43,
   "metadata": {
    "collapsed": false
   },
   "outputs": [
    {
     "data": {
      "image/png": "[encoded data removed]",
      "text/plain": [
       "<matplotlib.figure.Figure at 0x119a6df10>"
      ]
     },
     "metadata": {},
     "output_type": "display_data"
    },
    {
     "data": {
      "image/png": "[encoded data removed]",
      "text/plain": [
       "<matplotlib.figure.Figure at 0x11a5a3ed0>"
      ]
     },
     "metadata": {},
     "output_type": "display_data"
    }
   ],
   "source": [
    "def plot_genre_freq(male_genre, female_genre):\n",
    "    #Show the count of texts published in a certain genre for male and female authors\n",
    "    fig3, ax3 = plt.subplots(figsize=(9, 7))\n",
    "    fig3.suptitle('Genre Frequency Among Male Authors', fontsize=20)\n",
    "    ax3.barh(range(len(male_genre)), male_genre.values(), align='center', \n",
    "             height=0.5, tick_label=male_genre.keys())\n",
    "    plt.xlabel('Frequency', fontsize=16)\n",
    "    plt.ylabel('Genre', fontsize=16)\n",
    "    plt.show()\n",
    "\n",
    "    fig4, ax4 = plt.subplots(figsize=(9, 7))\n",
    "    fig4.suptitle('Genre Frequency Among Female Authors', fontsize=20)\n",
    "    ax4.barh(range(len(female_genre)), female_genre.values(), align='center', \n",
    "             color='red', height=0.5, tick_label=female_genre.keys())\n",
    "    plt.xlabel('Frequency', fontsize=16)\n",
    "    plt.ylabel('Genre', fontsize=16)\n",
    "    plt.show()\n",
    "    \n",
    "plot_genre_freq(male_genre, female_genre)"
   ]
  },
  {
   "cell_type": "markdown",
   "metadata": {},
   "source": [
    "## Build Dataset for experiments"
   ]
  },
  {
   "cell_type": "code",
   "execution_count": 88,
   "metadata": {
    "collapsed": true
   },
   "outputs": [],
   "source": [
    "def build_dataset(reader, phi, vectorizer=None):\n",
    "    \"\"\"\n",
    "    Parameters\n",
    "    ----------\n",
    "    reader : iterator\n",
    "        This is the dataset that we are featurizing\n",
    "        \n",
    "    vectorizer : sklearn.feature_extraction.DictVectorizer\n",
    "        If this is None, then a new `DictVectorizer` is created and\n",
    "        used to turn the list of dicts created by `phi` into a \n",
    "        feature matrix. This happens when we are training.\n",
    "\n",
    "        If this is not None, then it's assumed to be a `DictVectorizer` \n",
    "        and used to transform the list of dicts. This happens in \n",
    "        assessment, when we take in new instances and need to \n",
    "        featurize them as we did in training.\n",
    "    Returns\n",
    "    -------\n",
    "    dict\n",
    "        A dict with keys 'X' (the feature matrix), 'y' (the list of labels), \n",
    "        'vectorizer' (the 'DictVectorizer'), and 'raw_examples'(for error analysis).\n",
    "    \"\"\"\n",
    "    labels = []\n",
    "    feat_dicts = []\n",
    "    for unigrams, length, deps, pub, genre, label in reader():\n",
    "        if genre != \"ScienceFiction\":\n",
    "            continue\n",
    "        labels.append(label)\n",
    "        feat_dicts.append(phi(unigrams, length, deps, pub, genre))\n",
    "    feat_matrix = None\n",
    "    #In training, we want a new vectorizer:\n",
    "    if vectorizer == None:\n",
    "        vectorizer = DictVectorizer(sparse=True)\n",
    "        feat_matrix = vectorizer.fit_transform(feat_dicts)\n",
    "        feat_names = vectorizer.get_feature_names()\n",
    "    #In assessment, we featurize using the existing vectorizer:\n",
    "    else:\n",
    "        feat_matrix = vectorizer.fit_transform(feat_dicts)\n",
    "    \n",
    "    return {'X': feat_matrix,\n",
    "            'y': labels,\n",
    "            'featureNames': feat_names,\n",
    "            'vectorizer': vectorizer}"
   ]
  },
  {
   "cell_type": "markdown",
   "metadata": {},
   "source": [
    "## Fit the classifier on our feature matrix and labels"
   ]
  },
  {
   "cell_type": "code",
   "execution_count": 89,
   "metadata": {
    "collapsed": true
   },
   "outputs": [],
   "source": [
    "def fit_maxent_classifier(X, y):    \n",
    "    \"\"\"Wrapper for `sklearn.linear.model.LogisticRegression`. This is also \n",
    "    called a Maximum Entropy (MaxEnt) Classifier, which is more fitting \n",
    "    for the multiclass case.\n",
    "    \n",
    "    Parameters\n",
    "    ----------\n",
    "    X : 2d np.array\n",
    "        The matrix of features, one example per row.\n",
    "        \n",
    "    y : list\n",
    "        The list of labels for rows in `X`.\n",
    "    \n",
    "    Returns\n",
    "    -------\n",
    "    sklearn.linear.model.LogisticRegression\n",
    "        A trained `LogisticRegression` instance.\n",
    "    \n",
    "    \"\"\"\n",
    "    mod = LogisticRegression(fit_intercept=True)\n",
    "    mod.fit(X, y)\n",
    "    return mod"
   ]
  },
  {
   "cell_type": "markdown",
   "metadata": {},
   "source": [
    "## Run experiment to train and test our model"
   ]
  },
  {
   "cell_type": "code",
   "execution_count": 106,
   "metadata": {
    "collapsed": false
   },
   "outputs": [],
   "source": [
    "def experiment(\n",
    "            train_reader=train_reader,\n",
    "            assess_reader=None,\n",
    "            train_size=0.7,\n",
    "            phi = features_phi,\n",
    "            train_func=fit_maxent_classifier,\n",
    "            score_func=utils.safe_macro_f1,\n",
    "            select_feat=False,\n",
    "            verbose=True):\n",
    "    \"\"\"\n",
    "    Parameters\n",
    "    ==========\n",
    "    train_reader : Iterator for training data.\n",
    "    \n",
    "    assess_reader : Iterator for assessment data.\n",
    "    \n",
    "    train_size : float\n",
    "        If 'assess_reader' is None, then this is percentage of \n",
    "        'train_reader' devoted to training. Else this is ignored.\n",
    "    train_func : model wrapper\n",
    "        Any function taking in a feature matrix and label list\n",
    "        and returns a fitted model with a 'predict' function\n",
    "        that operates on feature matrices.\n",
    "    score_metric : Scoring function, default is weighted average F1\n",
    "    verbose : bool\n",
    "        Whether to print out model assessment to standard output.\n",
    "    \n",
    "    Prints\n",
    "    ======\n",
    "    Model accuracy and model precision/recall/F1 report.\n",
    "    \n",
    "    Returns\n",
    "    =======\n",
    "    Float\n",
    "        Overall scoring metric determined by 'score_metric'.\n",
    "    \"\"\"\n",
    "    # Train dataset:\n",
    "    train = build_dataset(train_reader, phi, vectorizer=None)\n",
    "    #Manage the assessment set-up:\n",
    "    X_train = train['X']\n",
    "    y_train = train['y']\n",
    "    feature_names = train['featureNames']\n",
    "    X_assess = None\n",
    "    y_assess = None\n",
    "    if assess_reader == None:\n",
    "        #'train_test_split' is a sklearn function that splits arrays or matrices into random train and test subsets\n",
    "        X_train, X_assess, y_train, y_assess = train_test_split(\n",
    "                X_train, y_train, train_size=train_size)\n",
    "    else:\n",
    "        #Assessment dataset using the training vectorizer:\n",
    "        assess = build_dataset(assess_reader, phi, vectorizer=None)\n",
    "        X_assess, y_assess = assess['X'], assess['y']\n",
    "    \n",
    "    #Perform feature selection, selects the top percentage of features for classification\n",
    "    if select_feat:\n",
    "        selector = SelectPercentile(chi2, percentile=50)\n",
    "        X_train = selector.fit_transform(X_train, y_train)\n",
    "        X_assess = selector.transform(X_assess)\n",
    "        feature_names = [feature_names[i] for i in selector.get_support(indices=True)]\n",
    "        print (len(feature_names))\n",
    "    #Train:\n",
    "    mod = train_func(X_train, y_train)\n",
    "    \n",
    "    #Predictions:\n",
    "    predictions = mod.predict(X_assess)\n",
    "    print (mod.coef_.shape)\n",
    "    print (X_assess.shape)\n",
    "    print(X_train.shape)\n",
    "    #Print features and feature weights\n",
    "    coef = np.matrix(mod.coef_)\n",
    "    df = DataFrame(coef.transpose(), index = feature_names)\n",
    "    print('Feature names and their weights:')\n",
    "    print (df.sort_values([1], ascending=[False]))\n",
    "    #Report:\n",
    "    if verbose:\n",
    "        print('Accuracy: %0.03f' % accuracy_score(y_assess, predictions))\n",
    "        print(classification_report(y_assess, predictions, digits=3))\n",
    "    # Return the overall score:\n",
    "    return score_func(y_assess, predictions) \n",
    "        "
   ]
  },
  {
   "cell_type": "code",
   "execution_count": 107,
   "metadata": {
    "collapsed": false,
    "scrolled": true
   },
   "outputs": [
    {
     "name": "stdout",
     "output_type": "stream",
     "text": [
      "67947\n",
      "(6, 67947)\n",
      "(3038, 67947)\n",
      "(7086, 67947)\n",
      "Feature names and their weights:\n",
      "                                  0         1         2         3         4  \\\n",
      "Illia                     -0.370235  1.488751 -1.208702 -0.246705  0.014071   \n",
      "3                          0.354518  1.260154 -0.045654 -0.137204 -0.022004   \n",
      "Del                       -0.083509  1.194505 -0.382745 -0.019226 -0.036460   \n",
      "Dance                     -0.082158  1.138539 -0.504244 -0.025554 -0.022364   \n",
      "Mara                      -0.233423  1.127987 -0.784948 -0.160656  0.200561   \n",
      "Molly                     -0.126078  1.032888 -0.432627 -0.084733  0.260573   \n",
      "Grampa                    -0.444929  1.032060 -1.013988 -0.203256 -0.171266   \n",
      "scared                    -0.156279  0.947418 -0.360688  0.291556 -0.068545   \n",
      "dice                      -0.257930  0.885697 -0.826909 -0.155175  0.213008   \n",
      "advmod_said_softly\\n      -0.343126  0.879774 -0.457796 -0.065303 -0.087331   \n",
      "Nothing                   -0.496497  0.872986 -0.386152  0.057462 -0.050835   \n",
      "Blackie                   -0.369504  0.865067 -1.017221 -0.127869  0.271114   \n",
      "Game                      -0.204931  0.841363 -0.205797 -0.096140 -0.016581   \n",
      "advmod_looked_scared\\n    -0.041102  0.831081 -0.245411 -0.035464 -0.014897   \n",
      "bad                       -0.024012  0.828893 -0.107486 -0.101615 -0.078568   \n",
      "root_root_cried\\n         -0.160087  0.817082 -0.142579 -0.031075 -0.017702   \n",
      "root_root_dance           -0.057838  0.807768 -0.346379 -0.016509 -0.014826   \n",
      "nummod_men_two            -0.057948  0.804681 -0.562342  0.057975 -0.056100   \n",
      "nsubj_looked_four         -0.007977  0.798507 -0.061558 -0.018138 -0.038271   \n",
      "root_root_00unknown00     -0.291558  0.794218  0.139449  0.569082  0.231092   \n",
      "sharply                   -0.111864  0.783963 -0.453267 -0.149786  0.321392   \n",
      "person                     0.116769  0.776307 -0.540615 -0.131494  0.103623   \n",
      "trembling                  0.525845  0.770153 -0.828645  0.021682  0.151280   \n",
      "Zabibi                    -0.051670  0.758003 -0.130399 -0.034244  0.170460   \n",
      "det_00unknown00_a         -0.103616  0.755244  0.261467 -0.461791  0.471055   \n",
      "aux_going_'re             -0.083815  0.742218 -0.154041 -0.035427 -0.012172   \n",
      "compound:prt_glanced_up\\n -0.023942  0.739326 -0.270287 -0.003693 -0.015121   \n",
      "cc_screamed_and            0.091463  0.737049 -0.293774  0.221839  0.223322   \n",
      "nmod:to_said_junior\\n     -0.041691  0.727102 -0.143399 -0.004963 -0.030643   \n",
      "case_junior_to            -0.041691  0.727102 -0.143399 -0.004963 -0.030643   \n",
      "...                             ...       ...       ...       ...       ...   \n",
      "thought                   -0.123048 -0.478636 -0.044991  0.244677 -0.011902   \n",
      "until                     -0.446973 -0.480327 -0.404480  0.719391 -0.017009   \n",
      "amod_00unknown00_old       0.696002 -0.480725 -0.140873 -0.281610 -0.391313   \n",
      "23                         0.451960 -0.483408 -0.026314 -0.283732 -0.454641   \n",
      "22                        -0.005544 -0.489629  0.079093 -0.152591 -0.081584   \n",
      "watched                   -0.118529 -0.492026 -0.192965 -0.008435 -0.012908   \n",
      "amod_00unknown00_little   -0.365117 -0.493658  0.481915 -0.125185 -0.006000   \n",
      "By                         0.423877 -0.496537 -0.772008 -0.091521 -0.039114   \n",
      "open                      -0.370470 -0.499913  0.191060 -0.291485 -0.127207   \n",
      "'m                         0.554761 -0.515190  0.470080 -0.152500  0.368245   \n",
      "18                        -0.364425 -0.519124 -0.096774 -0.158119 -0.335671   \n",
      "case_00unknown00_at       -0.680706 -0.544939 -0.829465  0.611148  1.818462   \n",
      "Lhari                     -0.382426 -0.553585  2.693443 -0.214965 -0.544013   \n",
      "dobj_shook_head\\n          0.583469 -0.553729  0.195887 -0.256166 -0.107783   \n",
      "13                        -0.233816 -0.564098 -0.226703 -0.044659 -0.080811   \n",
      "father                    -0.465405 -0.578958  0.614778  0.429136 -0.370272   \n",
      "will                       0.275238 -0.596080  0.344483  0.098391 -0.038029   \n",
      "by                         0.034021 -0.603365  0.144780 -0.359288  0.102545   \n",
      "look                      -0.130691 -0.609523  0.042049  0.441150  0.253602   \n",
      "could                     -0.044823 -0.610684 -0.149086  0.000968  0.084360   \n",
      "Karara                     1.377993 -0.618404  0.828380  1.279963 -0.372604   \n",
      "'d                        -0.283237 -0.634694  0.316887 -0.052313 -0.209722   \n",
      "1900                      -1.443348 -0.636761  0.065259 -1.320275 -1.180224   \n",
      "0000                      -1.100971 -0.641814 -1.780244 -0.691578 -0.494781   \n",
      "again                     -0.090551 -0.677543  0.296585 -0.212075 -0.502047   \n",
      "felt                      -0.372309 -0.684785  0.089661  0.060542  0.073097   \n",
      "24                        -0.221150 -0.705113  0.212295  0.069457 -0.232951   \n",
      "still                     -0.235073 -0.730447 -0.045627  0.060717 -0.201946   \n",
      "1800                       0.796705 -1.045904  1.151785 -0.800979 -1.246602   \n",
      "Bart                      -0.172756 -1.056870  3.246811 -0.292030 -0.842354   \n",
      "\n",
      "                                  5  \n",
      "Illia                      0.196830  \n",
      "3                         -0.356510  \n",
      "Del                       -0.607003  \n",
      "Dance                     -0.390897  \n",
      "Mara                       0.105014  \n",
      "Molly                     -0.433576  \n",
      "Grampa                     0.481116  \n",
      "scared                    -0.437461  \n",
      "dice                       0.140007  \n",
      "advmod_said_softly\\n       0.168472  \n",
      "Nothing                    0.059199  \n",
      "Blackie                    0.432741  \n",
      "Game                      -0.202029  \n",
      "advmod_looked_scared\\n    -0.402981  \n",
      "bad                       -0.191740  \n",
      "root_root_cried\\n         -0.268643  \n",
      "root_root_dance           -0.277692  \n",
      "nummod_men_two            -0.221014  \n",
      "nsubj_looked_four         -0.592672  \n",
      "root_root_00unknown00     -0.748859  \n",
      "sharply                   -0.193039  \n",
      "person                    -0.151847  \n",
      "trembling                 -0.319370  \n",
      "Zabibi                    -0.624923  \n",
      "det_00unknown00_a         -0.550869  \n",
      "aux_going_'re             -0.526314  \n",
      "compound:prt_glanced_up\\n -0.377167  \n",
      "cc_screamed_and           -0.717209  \n",
      "nmod:to_said_junior\\n     -0.379858  \n",
      "case_junior_to            -0.379858  \n",
      "...                             ...  \n",
      "thought                    0.024840  \n",
      "until                      0.302175  \n",
      "amod_00unknown00_old       0.190309  \n",
      "23                         0.078136  \n",
      "22                        -0.042743  \n",
      "watched                    0.522746  \n",
      "amod_00unknown00_little    0.283354  \n",
      "By                         0.599632  \n",
      "open                       0.276264  \n",
      "'m                        -0.679858  \n",
      "18                         0.303682  \n",
      "case_00unknown00_at       -0.232749  \n",
      "Lhari                     -2.589885  \n",
      "dobj_shook_head\\n         -0.080586  \n",
      "13                         0.352862  \n",
      "father                    -0.542430  \n",
      "will                      -0.359162  \n",
      "by                        -0.066729  \n",
      "look                       0.119691  \n",
      "could                      0.206648  \n",
      "Karara                    -2.254877  \n",
      "'d                         0.012789  \n",
      "1900                      -0.015661  \n",
      "0000                       2.262974  \n",
      "again                      0.135845  \n",
      "felt                      -0.058184  \n",
      "24                        -0.009400  \n",
      "still                      0.403038  \n",
      "1800                      -2.220462  \n",
      "Bart                      -3.420462  \n",
      "\n",
      "[67947 rows x 6 columns]\n",
      "Accuracy: 0.645\n",
      "             precision    recall  f1-score   support\n",
      "\n",
      "       FCFA      0.500     0.122     0.196       254\n",
      "       FCMA      0.400     0.025     0.047       160\n",
      "       MCFA      0.685     0.658     0.672      1101\n",
      "     MCFCFA      0.739     0.137     0.231       124\n",
      "     MCFCMA      0.364     0.049     0.087        81\n",
      "       MCMA      0.629     0.895     0.739      1318\n",
      "\n",
      "avg / total      0.624     0.645     0.595      3038\n",
      "\n",
      "(6, 135894)\n",
      "(3038, 135894)\n",
      "(7086, 135894)\n",
      "Feature names and their weights:\n",
      "                                   0         1         2         3         4  \\\n",
      "3                           0.257492  1.102286 -0.132228  0.669349  0.453339   \n",
      "scared                     -0.132055  1.057623 -0.086231  0.116587 -0.059557   \n",
      "Molly                      -0.175748  1.030433 -0.523726 -0.098428  0.429508   \n",
      "Thacher                    -0.272997  0.996607 -0.385156 -0.128944 -0.161718   \n",
      "nmod:poss_wife_my           0.078032  0.976617 -0.546564 -0.113713  0.050152   \n",
      "bitterly                   -0.071441  0.942347 -0.266315 -0.070491 -0.023878   \n",
      "Illia                      -0.321125  0.908346 -1.098438 -0.232216  0.052149   \n",
      "Del                        -0.034195  0.891527 -0.223467 -0.014657 -0.045839   \n",
      "Blackie                    -0.361882  0.884896 -0.706922 -0.141023  0.078338   \n",
      "det_00unknown00_the         0.570053  0.878189 -1.191966  1.570574  1.991203   \n",
      "advmod_looked_scared\\n     -0.042173  0.853045 -0.350815 -0.065489 -0.018328   \n",
      "nsubj_cried_00unknown00    -0.187181  0.851091 -0.049931 -0.263555 -0.096950   \n",
      "case_that_about            -0.069653  0.850787  0.004221 -0.019965 -0.024139   \n",
      "Dance                      -0.046134  0.828974 -0.398386 -0.016099 -0.015260   \n",
      "challenged                 -0.170197  0.826205 -0.236109 -0.048864 -0.031245   \n",
      "case_grampa_at             -0.073277  0.808110 -0.121369 -0.017731 -0.079005   \n",
      "Four                       -0.241330  0.799078 -0.519726 -0.206706  0.080991   \n",
      "Wife                       -0.126827  0.797076 -0.405305 -0.045337 -0.008765   \n",
      "compound_crypt_00unknown00 -0.092303  0.788248 -0.295379 -0.018813 -0.013145   \n",
      "det_crypt_the              -0.092303  0.788248 -0.295379 -0.018813 -0.013145   \n",
      "Grampa                     -0.549205  0.784097 -1.042276 -0.346010 -0.073852   \n",
      "dobj_shook_head            -0.406360  0.763565 -0.210732 -0.178379 -0.215797   \n",
      "nsubj_looked_four          -0.008957  0.761853 -0.070536 -0.054106 -0.038689   \n",
      "Nothing                    -0.468182  0.749813 -0.621815  0.017653 -0.076245   \n",
      "angry                      -0.016524  0.747295 -0.047975 -0.063579 -0.088131   \n",
      "sharply                    -0.068630  0.745990 -0.568776 -0.148249  0.125038   \n",
      "no                         -0.208598  0.741678 -0.054626 -0.096524  0.123967   \n",
      "root_root_cried\\n           0.305482  0.732207 -0.394503 -0.047552 -0.020920   \n",
      "without                    -0.082702  0.724946  0.039097 -0.236325 -0.087457   \n",
      "nsubj_angry_00unknown00    -0.033799  0.722514 -0.375163 -0.008683 -0.010184   \n",
      "...                              ...       ...       ...       ...       ...   \n",
      "still                      -0.158400 -0.461810 -0.096176  0.081254 -0.300607   \n",
      "nsubj_turned_00unknown00    0.126608 -0.463403 -0.251362  0.386570  0.077462   \n",
      "yet                        -0.013430 -0.468753 -0.124039 -0.292618 -0.165515   \n",
      "amod_00unknown00_old        0.678304 -0.481441  0.327667 -0.436483 -0.343185   \n",
      "over                       -0.141316 -0.482322  0.114729  0.058401 -0.042755   \n",
      "take                       -0.012769 -0.483630 -0.155049 -0.213895  0.270354   \n",
      "nmod:poss_mind_00unknown00 -0.023054 -0.488496 -0.101370 -0.274449 -0.244610   \n",
      "23                          0.140540 -0.495401  0.106819 -0.198981 -0.393280   \n",
      "could                       0.129117 -0.501376 -0.112234 -0.039558 -0.042964   \n",
      "18                         -0.366068 -0.507850  0.086580 -0.196173 -0.321538   \n",
      "look                        0.185366 -0.546398  0.048350 -0.093633  0.359624   \n",
      "own                        -0.223137 -0.565047  0.355045  0.415802 -0.248219   \n",
      "first                       0.243426 -0.567989  0.282231 -0.467770  0.448921   \n",
      "mind                        0.017193 -0.589181 -0.373886 -0.450166 -0.305229   \n",
      "thought                    -0.103982 -0.591626 -0.051631  0.091325  0.054712   \n",
      "father                     -0.454681 -0.603513  0.653489  0.415180 -0.365144   \n",
      "0000                       -0.950447 -0.607373 -1.902940 -0.493940 -0.359816   \n",
      "until                      -0.323424 -0.610781 -0.358310  0.496634  0.148777   \n",
      "old                         0.616264 -0.617655  0.562367  0.194295 -0.464130   \n",
      "What                       -0.121781 -0.619295  0.646200  0.030194 -0.278857   \n",
      "Lhari                      -0.254393 -0.622023  2.691929 -0.335022 -0.421157   \n",
      "case_00unknown00_at        -0.909858 -0.626293 -0.591949  0.903242  1.891226   \n",
      "24                          0.045138 -0.633321  0.168368 -0.002386 -0.269526   \n",
      "Karara                      1.535605 -0.642059  0.661123  1.328977 -0.366736   \n",
      "...                         0.419067 -0.663845  0.122753  0.422179 -0.331342   \n",
      "1800                        0.971732 -0.725149  1.356299 -0.437582 -1.132365   \n",
      "dobj_shook_head\\n           0.686172 -0.740360 -0.072622 -0.409883  0.483830   \n",
      "when                        0.062705 -0.791754  0.537831  0.401555  0.079493   \n",
      "Bart                       -0.269092 -1.055369  3.299111 -0.395361 -0.865070   \n",
      "ScienceFiction             -1.176188 -1.425372 -0.288987 -1.725223 -2.024301   \n",
      "\n",
      "                                   5  \n",
      "3                          -0.138861  \n",
      "scared                     -0.676994  \n",
      "Molly                      -0.424990  \n",
      "Thacher                     0.092344  \n",
      "nmod:poss_wife_my          -0.219229  \n",
      "bitterly                   -0.537113  \n",
      "Illia                       0.456299  \n",
      "Del                        -0.503161  \n",
      "Blackie                     0.088902  \n",
      "det_00unknown00_the        -0.940882  \n",
      "advmod_looked_scared\\n     -0.288363  \n",
      "nsubj_cried_00unknown00    -0.146118  \n",
      "case_that_about            -0.551314  \n",
      "Dance                      -0.219147  \n",
      "challenged                 -0.226079  \n",
      "case_grampa_at             -0.614656  \n",
      "Four                        0.068343  \n",
      "Wife                        0.003846  \n",
      "compound_crypt_00unknown00 -0.340426  \n",
      "det_crypt_the              -0.340426  \n",
      "Grampa                      0.796836  \n",
      "dobj_shook_head             0.241879  \n",
      "nsubj_looked_four          -0.485032  \n",
      "Nothing                     0.457903  \n",
      "angry                      -0.520652  \n",
      "sharply                    -0.006536  \n",
      "no                         -0.192016  \n",
      "root_root_cried\\n          -0.394377  \n",
      "without                    -0.271838  \n",
      "nsubj_angry_00unknown00    -0.291977  \n",
      "...                              ...  \n",
      "still                       0.372049  \n",
      "nsubj_turned_00unknown00    0.136726  \n",
      "yet                         0.542542  \n",
      "amod_00unknown00_old       -0.057900  \n",
      "over                        0.045730  \n",
      "take                        0.315860  \n",
      "nmod:poss_mind_00unknown00  0.233467  \n",
      "23                         -0.019993  \n",
      "could                       0.078488  \n",
      "18                          0.257586  \n",
      "look                        0.156489  \n",
      "own                        -0.283456  \n",
      "first                      -0.219039  \n",
      "mind                        0.781435  \n",
      "thought                     0.283957  \n",
      "father                     -0.445304  \n",
      "0000                        2.408960  \n",
      "until                       0.283295  \n",
      "old                        -0.784703  \n",
      "What                       -0.217082  \n",
      "Lhari                      -2.387540  \n",
      "case_00unknown00_at        -0.373766  \n",
      "24                         -0.056414  \n",
      "Karara                     -2.158389  \n",
      "...                        -0.255235  \n",
      "1800                       -2.362812  \n",
      "dobj_shook_head\\n           0.125059  \n",
      "when                       -0.683748  \n",
      "Bart                       -3.171553  \n",
      "ScienceFiction             -0.141859  \n",
      "\n",
      "[135894 rows x 6 columns]\n",
      "Accuracy: 0.626\n",
      "             precision    recall  f1-score   support\n",
      "\n",
      "       FCFA      0.485     0.130     0.205       246\n",
      "       FCMA      0.455     0.030     0.056       167\n",
      "       MCFA      0.634     0.709     0.669      1127\n",
      "     MCFCFA      0.450     0.074     0.127       122\n",
      "     MCFCMA      0.333     0.040     0.071       101\n",
      "       MCMA      0.630     0.825     0.715      1275\n",
      "\n",
      "avg / total      0.593     0.626     0.575      3038\n",
      "\n"
     ]
    }
   ],
   "source": [
    "_ = experiment(select_feat=True)"
   ]
  },
  {
   "cell_type": "markdown",
   "metadata": {
    "collapsed": true
   },
   "source": [
    "## Hyperparameter Search"
   ]
  },
  {
   "cell_type": "code",
   "execution_count": null,
   "metadata": {
    "collapsed": true
   },
   "outputs": [],
   "source": [
    "def fit_classifier_with_crossvalidation(X, y, basemod, cv, param_grid, scoring='accuracy'):\n",
    "    #Find the best model within param_grid:\n",
    "    crossvalidator = GridSearchCV(basemod, param_grid, cv=cv, scoring=scoring)\n",
    "    crossvalidator.fit(X, y)\n",
    "    print(\"Best params\", crossvalidator.best_params_)\n",
    "    print(\"Best score: %0.03f\" % crossvalidator.best_score_)\n",
    "    return crossvalidator.best_estimator_"
   ]
  },
  {
   "cell_type": "code",
   "execution_count": null,
   "metadata": {
    "collapsed": true
   },
   "outputs": [],
   "source": [
    "def fit_maxent_with_crossvalidation(X, y):\n",
    "    basemod = LogisticRegression()\n",
    "    cv = 5\n",
    "    param_grid = {'fit_intercept': [True, False],\n",
    "                 'C': [0.4, 0.6, 0.8, 1.0, 2.0, 3.0, 0.9, 0.5],\n",
    "                 'penalty': ['l1', 'l2']}\n",
    "    return fit_classifier_with_crossvalidation(X, y, basemod, cv, param_grid)"
   ]
  },
  {
   "cell_type": "code",
   "execution_count": null,
   "metadata": {
    "collapsed": false
   },
   "outputs": [],
   "source": [
    "_ = experiment(\n",
    "        train_func=fit_classifier_with_crossvalidation)"
   ]
  },
  {
   "cell_type": "code",
   "execution_count": null,
   "metadata": {
    "collapsed": true
   },
   "outputs": [],
   "source": []
  }
 ],
 "metadata": {
  "kernelspec": {
   "display_name": "Python 2",
   "language": "python",
   "name": "python2"
  },
  "language_info": {
   "codemirror_mode": {
    "name": "ipython",
    "version": 2
   },
   "file_extension": ".py",
   "mimetype": "text/x-python",
   "name": "python",
   "nbconvert_exporter": "python",
   "pygments_lexer": "ipython2",
   "version": "2.7.11"
  }
 },
 "nbformat": 4,
 "nbformat_minor": 0
}
